{
 "cells": [
  {
   "cell_type": "code",
   "execution_count": 2,
   "id": "1685d87c-56ad-404d-9c49-0b83b29bcfa0",
   "metadata": {},
   "outputs": [],
   "source": [
    "from huggingface_hub import login\n",
    "login(token=\"<enter the token here>\")"
   ]
  },
  {
   "cell_type": "code",
   "execution_count": 15,
   "id": "4ef3554c-d2f3-45d5-8b4e-21f2e11cff20",
   "metadata": {},
   "outputs": [],
   "source": [
    "import os\n",
    "import subprocess\n",
    "import time\n",
    "from PIL import Image\n",
    "from vllm import LLM, SamplingParams"
   ]
  },
  {
   "cell_type": "code",
   "execution_count": 3,
   "id": "e2423b6b-945e-485a-aed4-b5f314662a06",
   "metadata": {},
   "outputs": [
    {
     "name": "stdout",
     "output_type": "stream",
     "text": [
      "INFO 07-01 05:06:41 [config.py:2832] Downcasting torch.float32 to torch.float16.\n",
      "INFO 07-01 05:06:57 [config.py:689] This model supports multiple tasks: {'reward', 'generate', 'score', 'classify', 'embed'}. Defaulting to 'generate'.\n",
      "INFO 07-01 05:07:02 [config.py:1901] Chunked prefill is enabled with max_num_batched_tokens=8192.\n",
      "INFO 07-01 05:07:06 [core.py:61] Initializing a V1 LLM engine (v0.8.4) with config: model='google/paligemma-3b-mix-448', speculative_config=None, tokenizer='google/paligemma-3b-mix-448', skip_tokenizer_init=False, tokenizer_mode=auto, revision=None, override_neuron_config=None, tokenizer_revision=None, trust_remote_code=True, dtype=torch.float16, max_seq_len=8192, download_dir=None, load_format=auto, tensor_parallel_size=1, pipeline_parallel_size=1, disable_custom_all_reduce=False, quantization=None, enforce_eager=False, kv_cache_dtype=auto,  device_config=cuda, decoding_config=DecodingConfig(guided_decoding_backend='auto', reasoning_backend=None), observability_config=ObservabilityConfig(show_hidden_metrics=False, otlp_traces_endpoint=None, collect_model_forward_time=False, collect_model_execute_time=False), seed=None, served_model_name=google/paligemma-3b-mix-448, num_scheduler_steps=1, multi_step_stream_outputs=True, enable_prefix_caching=True, chunked_prefill_enabled=True, use_async_output_proc=True, disable_mm_preprocessor_cache=False, mm_processor_kwargs=None, pooler_config=None, compilation_config={\"level\":3,\"custom_ops\":[\"none\"],\"splitting_ops\":[\"vllm.unified_attention\",\"vllm.unified_attention_with_output\"],\"use_inductor\":true,\"compile_sizes\":[],\"use_cudagraph\":true,\"cudagraph_num_of_warmups\":1,\"cudagraph_capture_sizes\":[512,504,496,488,480,472,464,456,448,440,432,424,416,408,400,392,384,376,368,360,352,344,336,328,320,312,304,296,288,280,272,264,256,248,240,232,224,216,208,200,192,184,176,168,160,152,144,136,128,120,112,104,96,88,80,72,64,56,48,40,32,24,16,8,4,2,1],\"max_capture_size\":512}\n",
      "WARNING 07-01 05:07:11 [utils.py:2444] Methods determine_num_available_blocks,device_config,get_cache_block_size_bytes,initialize_cache not implemented in <vllm.v1.worker.gpu_worker.Worker object at 0x77a2db8f45b0>\n",
      "INFO 07-01 05:07:14 [parallel_state.py:959] rank 0 in world size 1 is assigned as DP rank 0, PP rank 0, TP rank 0\n",
      "INFO 07-01 05:07:14 [cuda.py:221] Using Flash Attention backend on V1 engine.\n"
     ]
    },
    {
     "name": "stderr",
     "output_type": "stream",
     "text": [
      "Using a slow image processor as `use_fast` is unset and a slow processor was saved with this model. `use_fast=True` will be the default behavior in v4.52, even if the model was saved with a slow processor. This will result in minor differences in outputs. You'll still be able to use a slow processor with `use_fast=False`.\n",
      "You are passing both `text` and `images` to `PaliGemmaProcessor`. The processor expects special image tokens in the text, as many tokens as there are images per each text. It is recommended to add `<image>` tokens in the very beginning of your text. For this call, we will infer how many images each text has and add special tokens.\n"
     ]
    },
    {
     "name": "stdout",
     "output_type": "stream",
     "text": [
      "INFO 07-01 05:07:25 [gpu_model_runner.py:1276] Starting to load model google/paligemma-3b-mix-448...\n",
      "INFO 07-01 05:07:25 [config.py:3466] cudagraph sizes specified by model runner [1, 2, 4, 8, 16, 24, 32, 40, 48, 56, 64, 72, 80, 88, 96, 104, 112, 120, 128, 136, 144, 152, 160, 168, 176, 184, 192, 200, 208, 216, 224, 232, 240, 248, 256, 264, 272, 280, 288, 296, 304, 312, 320, 328, 336, 344, 352, 360, 368, 376, 384, 392, 400, 408, 416, 424, 432, 440, 448, 456, 464, 472, 480, 488, 496, 504, 512] is overridden by config [512, 384, 256, 128, 4, 2, 1, 392, 264, 136, 8, 400, 272, 144, 16, 408, 280, 152, 24, 416, 288, 160, 32, 424, 296, 168, 40, 432, 304, 176, 48, 440, 312, 184, 56, 448, 320, 192, 64, 456, 328, 200, 72, 464, 336, 208, 80, 472, 344, 216, 88, 120, 480, 352, 248, 224, 96, 488, 504, 360, 232, 104, 496, 368, 240, 112, 376]\n",
      "WARNING 07-01 05:07:25 [gemma.py:60] Gemma's activation function was incorrectly set to exact GeLU in the config JSON file when it was initially released. Changing the activation function to approximate GeLU (`gelu_pytorch_tanh`). If you want to use the legacy `gelu_pytorch_tanh`, edit the config JSON to set `hidden_activation=gelu_pytorch_tanh` instead of `hidden_act`. See https://github.com/huggingface/transformers/pull/29402 for more details.\n",
      "WARNING 07-01 05:07:25 [topk_topp_sampler.py:69] FlashInfer is not available. Falling back to the PyTorch-native implementation of top-p & top-k sampling. For the best performance, please install FlashInfer.\n",
      "INFO 07-01 05:07:26 [weight_utils.py:265] Using model weights format ['*.safetensors']\n"
     ]
    },
    {
     "data": {
      "application/vnd.jupyter.widget-view+json": {
       "model_id": "1554f23e21c945d599ba814feed4b8d4",
       "version_major": 2,
       "version_minor": 0
      },
      "text/plain": [
       "Loading safetensors checkpoint shards:   0% Completed | 0/3 [00:00<?, ?it/s]\n"
      ]
     },
     "metadata": {},
     "output_type": "display_data"
    },
    {
     "name": "stdout",
     "output_type": "stream",
     "text": [
      "INFO 07-01 05:07:29 [loader.py:458] Loading weights took 2.64 seconds\n",
      "INFO 07-01 05:07:29 [gpu_model_runner.py:1291] Model loading took 5.4612 GiB and 3.704288 seconds\n"
     ]
    },
    {
     "name": "stderr",
     "output_type": "stream",
     "text": [
      "You are passing both `text` and `images` to `PaliGemmaProcessor`. The processor expects special image tokens in the text, as many tokens as there are images per each text. It is recommended to add `<image>` tokens in the very beginning of your text. For this call, we will infer how many images each text has and add special tokens.\n"
     ]
    },
    {
     "name": "stdout",
     "output_type": "stream",
     "text": [
      "INFO 07-01 05:07:29 [gpu_model_runner.py:1560] Encoder cache will be initialized with a budget of 8192 tokens, and profiled with 8 image items of the maximum feature size.\n"
     ]
    },
    {
     "name": "stderr",
     "output_type": "stream",
     "text": [
      "You are passing both `text` and `images` to `PaliGemmaProcessor`. The processor expects special image tokens in the text, as many tokens as there are images per each text. It is recommended to add `<image>` tokens in the very beginning of your text. For this call, we will infer how many images each text has and add special tokens.\n"
     ]
    },
    {
     "name": "stdout",
     "output_type": "stream",
     "text": [
      "INFO 07-01 05:07:37 [backends.py:416] Using cache directory: /home/rajeshbht19/.cache/vllm/torch_compile_cache/f7e87dda0e/rank_0_0 for vLLM's torch.compile\n",
      "INFO 07-01 05:07:37 [backends.py:426] Dynamo bytecode transform time: 6.71 s\n",
      "INFO 07-01 05:07:37 [backends.py:115] Directly load the compiled graph for shape None from the cache\n",
      "INFO 07-01 05:07:41 [monitor.py:33] torch.compile takes 6.71 s in total\n",
      "INFO 07-01 05:07:42 [kv_cache_utils.py:634] GPU KV cache size: 544,576 tokens\n",
      "INFO 07-01 05:07:42 [kv_cache_utils.py:637] Maximum concurrency for 8,192 tokens per request: 66.48x\n",
      "INFO 07-01 05:08:06 [gpu_model_runner.py:1626] Graph capturing finished in 23 secs, took 1.10 GiB\n",
      "INFO 07-01 05:08:06 [core.py:163] init engine (profile, create kv cache, warmup model) took 36.39 seconds\n"
     ]
    },
    {
     "name": "stderr",
     "output_type": "stream",
     "text": [
      "You are passing both `text` and `images` to `PaliGemmaProcessor`. The processor expects special image tokens in the text, as many tokens as there are images per each text. It is recommended to add `<image>` tokens in the very beginning of your text. For this call, we will infer how many images each text has and add special tokens.\n"
     ]
    },
    {
     "name": "stdout",
     "output_type": "stream",
     "text": [
      "INFO 07-01 05:08:06 [core_client.py:435] Core engine process 0 ready.\n"
     ]
    }
   ],
   "source": [
    "# load the model\n",
    "\n",
    "llm = LLM(model=\"google/paligemma-3b-mix-448\",  \n",
    "        trust_remote_code=True,\n",
    "        gpu_memory_utilization=0.8, \n",
    "        max_seq_len_to_capture = 8192)"
   ]
  },
  {
   "cell_type": "code",
   "execution_count": 16,
   "id": "64dbf546-0c4a-40bf-b8d7-2f948703dc83",
   "metadata": {},
   "outputs": [
    {
     "data": {
      "application/vnd.jupyter.widget-view+json": {
       "model_id": "5fcd46b3ea014795b92697fe3e7fcd8d",
       "version_major": 2,
       "version_minor": 0
      },
      "text/plain": [
       "Processed prompts:   0%|          | 0/1 [00:00<?, ?it/s, est. speed input: 0.00 toks/s, output: 0.00 toks/s]"
      ]
     },
     "metadata": {},
     "output_type": "display_data"
    },
    {
     "name": "stdout",
     "output_type": "stream",
     "text": [
      "Ashley Hotel West Coast\n",
      "WIFI Internet Service\n",
      "Username: fqqp\n",
      "Password: aaeu\n",
      "Traffic: 1 GB\n",
      "Price: 0.00\n",
      "Validity: 1w\n",
      "Starts: Now\n",
      "Shared Users: 4\n",
      "27/02/2019 11:03:15\n",
      "To logout or check\n",
      "status please type in\n",
      "http://hello.wifi\n",
      "Thank you !\n",
      "\n",
      "⏱️ Inference time: 2.012 seconds\n"
     ]
    }
   ],
   "source": [
    "prompt = \"ocr\"\n",
    "\n",
    "image = Image.open(\"password.jpg\")\n",
    "\n",
    "sampling_params = SamplingParams(\n",
    "        temperature=0.0,\n",
    "        max_tokens=512\n",
    ")\n",
    "\n",
    "start_time = time.time()\n",
    "\n",
    "outputs = llm.generate({\n",
    "        \"prompt\": f\"{prompt}\",\n",
    "        \"multi_modal_data\": {\n",
    "            \"image\": image\n",
    "        },\n",
    "    \n",
    "    },\n",
    "    sampling_params=sampling_params\n",
    ")\n",
    "\n",
    "# End timing\n",
    "end_time = time.time()\n",
    "inference_time = end_time - start_time\n",
    "\n",
    "for o in outputs:\n",
    "    generated_text = o.outputs[0].text\n",
    "    print(generated_text)\n",
    "\n",
    "print(f\"\\n⏱️ Inference time: {inference_time:.3f} seconds\")"
   ]
  },
  {
   "cell_type": "code",
   "execution_count": null,
   "id": "e91baf0b-9b3f-4e75-b4ce-375ae74d5c68",
   "metadata": {},
   "outputs": [],
   "source": []
  }
 ],
 "metadata": {
  "kernelspec": {
   "display_name": "Python 3 (ipykernel)",
   "language": "python",
   "name": "python3"
  },
  "language_info": {
   "codemirror_mode": {
    "name": "ipython",
    "version": 3
   },
   "file_extension": ".py",
   "mimetype": "text/x-python",
   "name": "python",
   "nbconvert_exporter": "python",
   "pygments_lexer": "ipython3",
   "version": "3.10.18"
  }
 },
 "nbformat": 4,
 "nbformat_minor": 5
}
